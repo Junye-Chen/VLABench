{
 "cells": [
  {
   "cell_type": "code",
   "execution_count": 1,
   "metadata": {},
   "outputs": [
    {
     "name": "stdout",
     "output_type": "stream",
     "text": [
      "select_painting\n",
      "select_book\n",
      "select_drink\n",
      "select_chemistry_tube\n",
      "select_poker\n",
      "select_mahjong\n",
      "select_toy\n",
      "select_fruit\n",
      "add_condiment\n",
      "insert_flower\n"
     ]
    }
   ],
   "source": [
    "import json \n",
    "\n",
    "with open('track_1_in_distribution.json', 'r') as f:\n",
    "    keys = json.load(f)\n",
    "    for k in keys:\n",
    "        print(k)\n",
    "\n",
    "f.close()"
   ]
  },
  {
   "cell_type": "code",
   "execution_count": 2,
   "metadata": {},
   "outputs": [
    {
     "name": "stdout",
     "output_type": "stream",
     "text": [
      "select_painting\n",
      "select_book\n",
      "select_drink\n",
      "select_chemistry_tube\n",
      "select_poker\n",
      "select_mahjong\n",
      "select_toy\n",
      "select_fruit\n",
      "add_condiment\n",
      "insert_flower\n"
     ]
    }
   ],
   "source": [
    "import json \n",
    "\n",
    "with open('track_6_unseen_texture.json', 'r') as f:\n",
    "    keys = json.load(f)\n",
    "    for k in keys:\n",
    "        print(k)\n",
    "\n",
    "f.close()"
   ]
  },
  {
   "cell_type": "code",
   "execution_count": 3,
   "metadata": {},
   "outputs": [
    {
     "name": "stdout",
     "output_type": "stream",
     "text": [
      "select_painting\n",
      "select_book\n",
      "select_drink\n",
      "select_chemistry_tube\n",
      "select_toy\n",
      "select_fruit\n",
      "add_condiment\n",
      "insert_flower\n",
      "select_nth_largest_poker\n",
      "select_unique_type_mahjong\n"
     ]
    }
   ],
   "source": [
    "import json \n",
    "\n",
    "with open('track_3_common_sense.json', 'r') as f:\n",
    "    keys = json.load(f)\n",
    "    for k in keys:\n",
    "        print(k)\n",
    "\n",
    "f.close()"
   ]
  }
 ],
 "metadata": {
  "kernelspec": {
   "display_name": "vlabench",
   "language": "python",
   "name": "python3"
  },
  "language_info": {
   "codemirror_mode": {
    "name": "ipython",
    "version": 3
   },
   "file_extension": ".py",
   "mimetype": "text/x-python",
   "name": "python",
   "nbconvert_exporter": "python",
   "pygments_lexer": "ipython3",
   "version": "3.10.8"
  }
 },
 "nbformat": 4,
 "nbformat_minor": 2
}
