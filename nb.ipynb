{
 "cells": [
  {
   "cell_type": "code",
   "execution_count": null,
   "metadata": {},
   "outputs": [],
   "source": [
    "import numpy as np\n",
    "import matplotlib.pyplot as plt\n",
    "import json\n",
    "\n",
    "# Load the data\n",
    "with open('VLABench/configs/task_config.json', 'r') as f:\n",
    "    data = json.load(f)\n",
    "\n",
    "print(data.keys())\n",
    "print(len(data.keys()))"
   ]
  },
  {
   "cell_type": "code",
   "execution_count": null,
   "metadata": {},
   "outputs": [],
   "source": [
    "from VLABench.configs import constant\n",
    "\n",
    "print(constant.get_object_list(constant.xml_root))"
   ]
  },
  {
   "cell_type": "code",
   "execution_count": null,
   "metadata": {},
   "outputs": [],
   "source": [
    "import os\n",
    "import sys\n",
    "import json\n",
    "\n",
    "# 1. 加载 name2config\n",
    "sys.path.append(os.path.abspath(\"VLABench/configs\"))\n",
    "from VLABench.configs import name2config\n",
    "\n",
    "all_tasks = set()\n",
    "for v in name2config.values():\n",
    "    all_tasks.update(v)\n",
    "\n",
    "# 2. 加载 task2code.json\n",
    "with open(\"VLABench/configs/task2code.json\", \"r\") as f:\n",
    "    task2code = json.load(f)\n",
    "    if \"task_mapping\" in task2code:\n",
    "        all_tasks.update(task2code[\"task_mapping\"].keys())\n",
    "\n",
    "# 3. 加载 task_config.json\n",
    "with open(\"VLABench/configs/task_config.json\", \"r\") as f:\n",
    "    task_config = json.load(f)\n",
    "    all_tasks.update(task_config.keys())\n",
    "\n",
    "# 4. 加载 dim2task.json\n",
    "dim2task_path = \"VLABench/configs/evaluation/dim2task.json\"\n",
    "if os.path.exists(dim2task_path):\n",
    "    with open(dim2task_path, \"r\") as f:\n",
    "        dim2task = json.load(f)\n",
    "        for v in dim2task.values():\n",
    "            all_tasks.update(v)\n",
    "\n",
    "# 5. 其他评测用任务（如 seq_independent_task.json）\n",
    "seq_indep_path = \"VLABench/configs/evaluation/seq_independent_task.json\"\n",
    "if os.path.exists(seq_indep_path):\n",
    "    with open(seq_indep_path, \"r\") as f:\n",
    "        seq_tasks = json.load(f)\n",
    "        all_tasks.update(seq_tasks)\n",
    "\n",
    "# 输出统计结果\n",
    "all_tasks = sorted(all_tasks)\n",
    "print(f\"共找到 {len(all_tasks)} 个任务：\")\n",
    "for t in all_tasks:\n",
    "    print(t)\n",
    "\n",
    "# 将这些任务写入 find_task_note.txt\n",
    "with open(\"find_task_note.txt\", \"w\") as f:\n",
    "    for t in all_tasks:\n",
    "        f.write(t + \"\\n\")   \n",
    "f.close()"
   ]
  },
  {
   "cell_type": "code",
   "execution_count": 7,
   "metadata": {},
   "outputs": [
    {
     "name": "stdout",
     "output_type": "stream",
     "text": [
      "['', 'add_condiment', 'add_condiment-semantic', 'add_condiment-spatial', 'add_condiments_with_common_sense', 'art_game', 'assemble_hammer_and_hammer_nail', 'basic_seesaw_usage', 'classify_desserts', 'classify_the_books', 'cluster_beverage', 'cluster_toy', 'cook_dishes_following_menu', 'density_qa', 'drag_force_qa', 'find_condiment_and_add_to_dish', 'find_fruit_to_make_juice', 'find_unseen_object', 'find_unseen_object_without_telling_find', 'find_weights_to_leverage_seesaw', 'flip_facing-downs_and_play_mahjong', 'flip_facing-downs_and_play_texas_holdem', 'friction_qa', 'get_black_coffee', 'get_latte_coffee', 'get_sweet_coffee', 'hammer_loose_nail', 'hammer_nail_and_hang_picture', 'hang_picture', 'heat_food_with_microwave', 'insert_bloomed_flower', 'insert_flower', 'insert_flower-semantic', 'insert_flower-spatial', 'insert_flower_with_common_sense', 'leverage_seesaw_to_grasp_target', 'magnetism_qa', 'make_juice_with_juicer', 'math_game', 'no_drink_in_fridge_and__refrigerate_drink', 'organize_study_table', 'pick_chemistry_tube_with_common_sense', 'pick_chemistrytube', 'pick_chemistrytube-spatial.', 'play_mahjong', 'play_snooker', 'plug-in_power_cord_to_heat_food', 'plug-in_power_cord_to_make_juice', 'put_billiards_in_pocket', 'put_box_on_famous_painting', 'rearrange_books_by_author_name', 'rearrange_books_by_year', 'rearrange_chemistry_tube', 'replace_wilted_flower_and_drop', 'select_billiards', 'select_billiards_with_common_sense', 'select_book', 'select_book-semantic', 'select_book-spatial', 'select_book_with_common_sense', 'select_chemistrytube-semantic', 'select_drink', 'select_drink-semantic', 'select_drink-spatial', 'select_drink_with_common_sense', 'select_fruit', 'select_fruit-semantic', 'select_fruit-spatial', 'select_fruit_with_common_sense', 'select_ingredient', 'select_ingredient-semantic', 'select_ingredient-spatial', 'select_ingredient_with_common_sense', 'select_mahjong', 'select_mahjong-spatial', 'select_nth_largest_poker', 'select_painting-semantic', 'select_painting_with_common_sense', 'select_poker', 'select_poker-spatial', 'select_toy', 'select_toy-semantic', 'select_toy-spatial', 'select_toy_with_common_sense', 'select_unique_mahjong', 'set_dining_table_by_menu', 'set_dining_table_left-handed', 'setup_study_table', 'simple_mahjong_play', 'simple_poker_play', 'simple_snooker_play', 'specular_reflection_qa', 'speed_of_sound_qa', 'store_proper_food', 'strike_billiards', 'take_chemistry_experiment', 'take_out_cool_drink', 'texas_holdem_play', 'thermal_expansion_qa', 'weight_qa', 'wrap_proper_toy_as_gift']\n"
     ]
    }
   ],
   "source": [
    "# 按行读取note.txt文件，并将其内容保存到列表中\n",
    "with open('note.txt', 'r') as f:\n",
    "    note_list = f.readlines()\n",
    "f.close()\n",
    "# 去除每行末尾的换行符\n",
    "note_list = [line.strip() for line in note_list]\n",
    "# 将所有的&替换为and\n",
    "note_list = [line.replace('&', 'and ') for line in note_list]\n",
    "# 将每行文本中的空格替换为下划线\n",
    "note_list = [line.replace(' ', '_') for line in note_list]\n",
    "# 将所有单词小写化\n",
    "note_list = [line.lower() for line in note_list]\n",
    "note_list = sorted(note_list)\n",
    "\n",
    "# 打印note_list\n",
    "print(note_list)\n",
    "\n",
    "with open('processed_note.txt', 'w') as f:\n",
    "    for line in note_list:\n",
    "        f.write(line + '\\n')\n",
    "\n",
    "f.close()"
   ]
  },
  {
   "cell_type": "code",
   "execution_count": 1,
   "metadata": {},
   "outputs": [],
   "source": [
    "with open('a.txt', 'r') as f:\n",
    "    lines = f.readlines()\n",
    "f.close()\n",
    "lines = [line.strip() for line in lines]\n",
    "lines = sorted(list(set(lines)))\n",
    "\n",
    "with open('a.txt', 'w') as f:\n",
    "    for line in lines:\n",
    "        f.write(line + '\\n')\n",
    "f.close()"
   ]
  }
 ],
 "metadata": {
  "kernelspec": {
   "display_name": "vladata",
   "language": "python",
   "name": "python3"
  },
  "language_info": {
   "codemirror_mode": {
    "name": "ipython",
    "version": 3
   },
   "file_extension": ".py",
   "mimetype": "text/x-python",
   "name": "python",
   "nbconvert_exporter": "python",
   "pygments_lexer": "ipython3",
   "version": "3.10.8"
  }
 },
 "nbformat": 4,
 "nbformat_minor": 2
}
